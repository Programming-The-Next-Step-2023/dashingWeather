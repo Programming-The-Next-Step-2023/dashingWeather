{
 "cells": [
  {
   "cell_type": "markdown",
   "source": [
    "Introduction\n",
    "\n",
    "`dashingWeather` is (as the name implies) a weather app created using Dash for Python.\n",
    "\n",
    "First run:\n",
    "\n",
    "- user is greeted with some information\n",
    "- default city is Amsterdam (as this is where the app was developed)\n",
    "- default unit is the metric system (again, in line with the app being made in Amsterdam)\n",
    "- world weather app set to temperature"
   ],
   "metadata": {
    "collapsed": false
   }
  },
  {
   "cell_type": "markdown",
   "source": [
    "*screenshot of initial screen*"
   ],
   "metadata": {
    "collapsed": false
   }
  },
  {
   "cell_type": "markdown",
   "source": [
    "Features\n",
    "\n",
    "users can easily choose what information they want to see or how this is displayed\n",
    "\n",
    "to check out a different city: type in new city name, then click go\n",
    "this changes:\n",
    "- current weather table\n",
    "- flag icon!\n",
    "- temperature plot\n",
    "- rain plot\n",
    "- tomorrows forecast table"
   ],
   "metadata": {
    "collapsed": false
   }
  },
  {
   "cell_type": "markdown",
   "source": [
    "*screenshot*"
   ],
   "metadata": {
    "collapsed": false
   }
  },
  {
   "cell_type": "markdown",
   "source": [
    "units can also be changed, for americans\n",
    "\n",
    "this changes the tables as well as the graphs"
   ],
   "metadata": {
    "collapsed": false
   }
  },
  {
   "cell_type": "markdown",
   "source": [
    "*screenshot*"
   ],
   "metadata": {
    "collapsed": false
   }
  },
  {
   "cell_type": "markdown",
   "source": [
    "map can also be played around with, different metrics are easily changed"
   ],
   "metadata": {
    "collapsed": false
   }
  },
  {
   "cell_type": "markdown",
   "source": [
    "*screenshot of each setting*"
   ],
   "metadata": {
    "collapsed": false
   }
  },
  {
   "cell_type": "markdown",
   "source": [
    "at the bottom you can see how to contact me/find me on different platforms"
   ],
   "metadata": {
    "collapsed": false
   }
  },
  {
   "cell_type": "markdown",
   "source": [
    "*screenshot*"
   ],
   "metadata": {
    "collapsed": false
   }
  },
  {
   "cell_type": "markdown",
   "source": [],
   "metadata": {
    "collapsed": false
   }
  },
  {
   "cell_type": "markdown",
   "source": [],
   "metadata": {
    "collapsed": false
   }
  },
  {
   "cell_type": "markdown",
   "source": [
    "\n",
    "How does this work (behind the scenes)?\n",
    "\n",
    "input is changed to correct format, coordinates retrieved then current weather data + forecast\n"
   ],
   "metadata": {
    "collapsed": false
   }
  }
 ],
 "metadata": {
  "kernelspec": {
   "display_name": "Python 3",
   "language": "python",
   "name": "python3"
  },
  "language_info": {
   "codemirror_mode": {
    "name": "ipython",
    "version": 2
   },
   "file_extension": ".py",
   "mimetype": "text/x-python",
   "name": "python",
   "nbconvert_exporter": "python",
   "pygments_lexer": "ipython2",
   "version": "2.7.6"
  }
 },
 "nbformat": 4,
 "nbformat_minor": 0
}
